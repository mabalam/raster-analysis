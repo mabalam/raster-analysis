{
 "cells": [
  {
   "cell_type": "markdown",
   "id": "70d1bfb7-1341-41fd-ac73-6fd0d8c5dbdd",
   "metadata": {},
   "source": [
    "# Geospatial (Raster) data visualization with matplotlib"
   ]
  },
  {
   "cell_type": "markdown",
   "id": "7a8d9431-bb84-4d96-bb35-b784580d7fc2",
   "metadata": {},
   "source": [
    "### Libraries"
   ]
  },
  {
   "cell_type": "code",
   "execution_count": null,
   "id": "53393f25-44f8-4219-a7c1-6f2b5235af37",
   "metadata": {},
   "outputs": [],
   "source": [
    "import rasterio \n",
    "from rasterio.plot import show, show_hist\n",
    "import matplotlib.pyplot as plt\n",
    "import geopandas as gpd\n",
    "import folium\n",
    "import numpy as np\n",
    "import pandas as pd\n",
    "from rasterio.features import shapes\n",
    "from shapely.geometry import shape"
   ]
  },
  {
   "cell_type": "markdown",
   "id": "c9775ed2-b26d-4741-8dae-7ce3e7b43f7f",
   "metadata": {},
   "source": [
    "### Data"
   ]
  },
  {
   "cell_type": "code",
   "execution_count": null,
   "id": "7507dcd9-1fe5-4771-8298-55411d8a0616",
   "metadata": {},
   "outputs": [],
   "source": [
    "# raster (continuous data)\n",
    "im_loc = './rasterSampleData/hokkaido/hokkaido/20201119.tif'\n",
    "ras = rasterio.open(im_loc)"
   ]
  },
  {
   "cell_type": "code",
   "execution_count": null,
   "id": "37e16869-e31c-4715-8d7c-f9992c9a6c8e",
   "metadata": {},
   "outputs": [],
   "source": [
    "# admin boundary (source: https://www.naturalearthdata.com/ )\n",
    "world = gpd.read_file('../Vector/data/world-administrative-boundaries.geojson')\n",
    "jpn = world[world['name']=='Japan']"
   ]
  },
  {
   "cell_type": "markdown",
   "id": "2bf413ff-7c94-4a9d-a95d-ff9537224c67",
   "metadata": {},
   "source": [
    "### Single layer"
   ]
  },
  {
   "cell_type": "code",
   "execution_count": null,
   "id": "735e6a66-5aef-43b4-967c-88a32146f4a1",
   "metadata": {},
   "outputs": [],
   "source": [
    "fig, ax1 = plt.subplots()\n",
    "\n",
    "# instantiate image\n",
    "im = show(ras, ax=ax1, cmap='inferno')\n",
    "\n",
    "# add color bar\n",
    "im = im.get_images()[0]\n",
    "fig.colorbar(im, ax=ax1, fraction=0.058);\n",
    "\n",
    "# add aesthetics\n",
    "plt.axis('off')\n",
    "plt.title('Rainfall (mm)');"
   ]
  },
  {
   "cell_type": "markdown",
   "id": "f879a618-9d0f-403e-94a5-77fef509b104",
   "metadata": {},
   "source": [
    "### Histogram"
   ]
  },
  {
   "cell_type": "code",
   "execution_count": null,
   "id": "c29721b9-221f-429d-843f-868b5515f69f",
   "metadata": {},
   "outputs": [],
   "source": [
    "# create subplots for better control (e.g. remomve legend)\n",
    "fig, ax = plt.subplots() \n",
    "\n",
    "# specify number of bins (for continuous data)\n",
    "bins = 50\n",
    "\n",
    "# show histogram\n",
    "show_hist(ras, ax=ax, bins = bins)\n",
    "\n",
    "# remove legend\n",
    "ax.get_legend().remove()\n",
    "ax.set_title(F'Histogram, bins = {bins}');"
   ]
  },
  {
   "cell_type": "markdown",
   "id": "0f72fa24-5691-4055-895e-306a57971709",
   "metadata": {},
   "source": [
    "### Subplots"
   ]
  },
  {
   "cell_type": "code",
   "execution_count": null,
   "id": "4f0f7368-8649-4e29-b401-da378f0f86e4",
   "metadata": {},
   "outputs": [],
   "source": [
    "fig, (ax1, ax2) = plt.subplots(1,2, figsize=(12,3), \n",
    "                               gridspec_kw={'width_ratios': [3, 1]})\n",
    "\n",
    "# basic image\n",
    "im = show(ras, ax=ax1, title='Rainfall (mm)')\n",
    "\n",
    "# add color bar\n",
    "im = im.get_images()[0]\n",
    "fig.colorbar(im, ax=ax1, fraction=0.058)\n",
    "\n",
    "\n",
    "# overlay shapefile\n",
    "jpn.plot(ax=ax1, facecolor = 'None', edgecolor = 'orange')\n",
    "\n",
    "# add histogram \n",
    "show_hist(ras, ax=ax2, bins=50)\n",
    "ax2.get_legend().remove();"
   ]
  },
  {
   "cell_type": "markdown",
   "id": "d5c9678a-2bfb-4333-9662-874dafe93b85",
   "metadata": {},
   "source": [
    "### Interactive map"
   ]
  },
  {
   "cell_type": "code",
   "execution_count": null,
   "id": "f9f84825-8f6b-4b03-923f-3bba2cc4ecf4",
   "metadata": {},
   "outputs": [],
   "source": [
    "# I could not directly plot raster, had to convert to a vector"
   ]
  },
  {
   "cell_type": "markdown",
   "id": "fed3bd02-a488-46cf-a0ec-e0c15e354a43",
   "metadata": {},
   "source": [
    "#### Step 1: Convert raster to a geodataframe"
   ]
  },
  {
   "cell_type": "code",
   "execution_count": null,
   "id": "9ff7a6ae-720b-41aa-868f-5a8dbabcc0c3",
   "metadata": {},
   "outputs": [],
   "source": [
    "im_loc = 'data/hokkaido/rainfall/20201119.tif'\n",
    "\n",
    "with rasterio.open(im_loc) as src:\n",
    "    data = src.read(1, masked=True)\n",
    "\n",
    "    # shape generator\n",
    "    shape_gen = ((shape(s), v) for s, v in shapes(data, transform=src.transform))\n",
    "\n",
    "    # build a pandas dataframe\n",
    "    df = pd.DataFrame(shape_gen, columns=['geometry', 'rainfall'])\n",
    "    gdf = gpd.GeoDataFrame(df[\"rainfall\"], geometry=df.geometry, crs=src.crs)    \n",
    "\n",
    "# reset index to get the index as a column\n",
    "gdf_i = gdf.reset_index()"
   ]
  },
  {
   "cell_type": "markdown",
   "id": "d37ae237-e13f-411a-96a1-c39665a822f3",
   "metadata": {},
   "source": [
    "#### Step 2: Add geodataframe on interative map"
   ]
  },
  {
   "cell_type": "code",
   "execution_count": null,
   "id": "6d3cb75c-b3ac-4bb2-bff4-5ff4fd20de63",
   "metadata": {},
   "outputs": [],
   "source": [
    "# create an empty map\n",
    "m = folium.Map(location=[43, 143], zoom_start=5, tiles=\"cartodbpositron\")\n",
    "\n",
    "# define threshold params\n",
    "threshold_scale = (gdf_i['rainfall'].quantile((0,0.2,0.4,0.6,0.8,1))).tolist()\n",
    "\n",
    "# generate a choropleth\n",
    "folium.Choropleth(geo_data = gdf_i, \n",
    "                  data = gdf_i, \n",
    "                  columns = ['index','rainfall'],\n",
    "                  key_on ='feature.properties.index', name = 'choropleth',\n",
    "                  fill_opacity=0.7,\n",
    "                  line_opacity=0.01,\n",
    "                  line_width = 0.001,\n",
    "                  fill_color=\"RdPu\",\n",
    "                  threshold_scale=threshold_scale).add_to(m)\n",
    "\n",
    "# add layer control widget\n",
    "folium.LayerControl().add_to(m)\n",
    "\n",
    "m"
   ]
  }
 ],
 "metadata": {
  "kernelspec": {
   "display_name": "geods",
   "language": "python",
   "name": "geods"
  },
  "language_info": {
   "codemirror_mode": {
    "name": "ipython",
    "version": 3
   },
   "file_extension": ".py",
   "mimetype": "text/x-python",
   "name": "python",
   "nbconvert_exporter": "python",
   "pygments_lexer": "ipython3",
   "version": "3.8.8"
  }
 },
 "nbformat": 4,
 "nbformat_minor": 5
}
